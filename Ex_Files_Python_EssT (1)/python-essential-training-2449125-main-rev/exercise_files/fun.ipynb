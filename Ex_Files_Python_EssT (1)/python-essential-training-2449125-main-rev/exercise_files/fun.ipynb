{
 "cells": [
  {
   "cell_type": "code",
   "execution_count": 1,
   "metadata": {},
   "outputs": [
    {
     "data": {
      "text/plain": [
       "5"
      ]
     },
     "execution_count": 1,
     "metadata": {},
     "output_type": "execute_result"
    }
   ],
   "source": [
    "def performOperation(num1,num2,operation):\n",
    "    if operation == 'sum':\n",
    "        return num1 + num2\n",
    "    if operation == 'multiply':\n",
    "        return num1 * num2\n",
    "performOperation(2,3, 'sum')"
   ]
  },
  {
   "cell_type": "code",
   "execution_count": 2,
   "metadata": {},
   "outputs": [
    {
     "name": "stdout",
     "output_type": "stream",
     "text": [
      "A new message\n"
     ]
    },
    {
     "data": {
      "text/plain": [
       "6"
      ]
     },
     "execution_count": 2,
     "metadata": {},
     "output_type": "execute_result"
    }
   ],
   "source": [
    "def performOperation(num1,num2,operation='sum', message='Default message'):\n",
    "    print(message)\n",
    "    if operation == 'sum':\n",
    "        return num1 + num2\n",
    "    if operation == 'multiply':\n",
    "        return num1 * num2\n",
    "performOperation(2,3, message='A new message!',operation='multiply')"
   ]
  },
  {
   "cell_type": "code",
   "execution_count": null,
   "metadata": {},
   "outputs": [],
   "source": [
    "def performOperation(*args):\n",
    "    print(args)\n",
    "performOperation(2,3,4)"
   ]
  },
  {
   "attachments": {},
   "cell_type": "markdown",
   "metadata": {},
   "source": [
    "def performOperation(*args)"
   ]
  }
 ],
 "metadata": {
  "kernelspec": {
   "display_name": "Python 3",
   "language": "python",
   "name": "python3"
  },
  "language_info": {
   "codemirror_mode": {
    "name": "ipython",
    "version": 3
   },
   "file_extension": ".py",
   "mimetype": "text/x-python",
   "name": "python",
   "nbconvert_exporter": "python",
   "pygments_lexer": "ipython3",
   "version": "3.11.1"
  },
  "orig_nbformat": 4
 },
 "nbformat": 4,
 "nbformat_minor": 2
}
